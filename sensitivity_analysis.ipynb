{
 "cells": [
  {
   "cell_type": "markdown",
   "metadata": {},
   "source": [
    "This notebook performs a grid search over key parameters in both models and plots how pattern wavelength and amplitude vary."
   ]
  },
  {
   "cell_type": "code",
   "execution_count": null,
   "metadata": {},
   "outputs": [],
   "source": [
    "import numpy as np\n",
    "import matplotlib.pyplot as plt\n",
    "import model\n",
    "import utils\n",
    "from scipy.signal import find_peaks"
   ]
  },
  {
   "cell_type": "code",
   "execution_count": null,
   "metadata": {},
   "outputs": [],
   "source": [
    "def estimate_wavelength(signal, x):\n",
    "    peaks, _ = find_peaks(signal)\n",
    "    if len(peaks) > 1:\n",
    "        dx = x[1] - x[0]\n",
    "        return np.mean(np.diff(peaks)) * dx\n",
    "    else:\n",
    "        return np.nan"
   ]
  },
  {
   "cell_type": "code",
   "execution_count": null,
   "metadata": {},
   "outputs": [],
   "source": [
    "# Domain for buckling (1D)\n",
    "x = np.linspace(0, 1, 200)\n",
    "E = 1.0\n",
    "nu = 0.3\n",
    "t_c = np.ones_like(x) * 0.1\n",
    "P = 10.0\n",
    "q = 1.0\n",
    "\n",
    "# Domain for Turing (2D)\n",
    "N = 200\n",
    "domain = np.linspace(0, 1, N)\n",
    "dx = domain[1] - domain[0]\n",
    "u0 = np.random.rand(N, N) * 0.1 + 0.5\n",
    "v0 = np.random.rand(N, N) * 0.1\n",
    "Du, Dv = 0.16, 0.08"
   ]
  },
  {
   "cell_type": "code",
   "execution_count": null,
   "metadata": {},
   "outputs": [],
   "source": [
    "enumerate_P = np.linspace(5, 20, 10)\n",
    "wavelengths_buck = []\n",
    "amplitudes_buck = []\n",
    "for P in enumerate_P:\n",
    "    w = model.sim_buckling(E=1.0, nu=0.3, t_c=t_c, P=P, q=1.0, x_domain=x)\n",
    "    wavelengths_buck.append(estimate_wavelength(w, x))\n",
    "    amplitudes_buck.append(np.max(w) - np.min(w))\n",
    "\n",
    "# Turing: vary Du\n",
    "enumerate_Du = np.linspace(0.05, 0.3, 10)\n",
    "wavelengths_tur = []\n",
    "amplitudes_tur = []\n",
    "for Du in enumerate_Du:\n",
    "    u, _ = model.sim_turing(Du=Du, Dv=0.08, f_func=f, g_func=g, u0=u0, v0=v0, dx=dx, dt=1e-2, steps=steps)\n",
    "    # take central row\n",
    "    row = u[N//2]\n",
    "    wavelengths_tur.append(estimate_wavelength(row, domain))\n",
    "    amplitudes_tur.append(np.max(row) - np.min(row))"
   ]
  },
  {
   "cell_type": "code",
   "execution_count": null,
   "metadata": {},
   "outputs": [],
   "source": [
    "fig, axs = plt.subplots(2, 2, figsize=(12, 8))\n",
    "# Buckling\n",
    "axs[0,0].plot(enumerate_P, wavelengths_buck)\n",
    "axs[0,0].set_title('Buckling wavelength vs P')\n",
    "axs[0,0].set_xlabel('P')\n",
    "\n",
    "axs[1,0].plot(enumerate_P, amplitudes_buck)\n",
    "axs[1,0].set_title('Buckling amplitude vs P')\n",
    "axs[1,0].set_xlabel('P')\n",
    "\n",
    "# Turing\n",
    "axs[0,1].plot(enumerate_Du, wavelengths_tur)\n",
    "axs[0,1].set_title('Turing wavelength vs Du')\n",
    "axs[0,1].set_xlabel('Du')\n",
    "\n",
    "axs[1,1].plot(enumerate_Du, amplitudes_tur)\n",
    "axs[1,1].set_title('Turing amplitude vs Du')\n",
    "axs[1,1].set_xlabel('Du')\n",
    "\n",
    "plt.tight_layout()\n",
    "plt.show()"
   ]
  }
 ],
 "metadata": {
  "language_info": {
   "name": "python"
  }
 },
 "nbformat": 4,
 "nbformat_minor": 2
}
